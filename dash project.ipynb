{
 "cells": [
  {
   "cell_type": "code",
   "execution_count": null,
   "metadata": {},
   "outputs": [],
   "source": [
    "import pandas as pd\n",
    "import plotly.express as px\n",
    "import dash \n",
    "from dash import html,dcc\n",
    "from dash.dependencies import Input,Output,State"
   ]
  },
  {
   "cell_type": "code",
   "execution_count": null,
   "metadata": {},
   "outputs": [],
   "source": [
    "link=\"https://codepen.io/chriddyp/pen/bWLwgP.css\"\n",
    "APP=dash.Dash(external_stylesheets=[link])"
   ]
  },
  {
   "cell_type": "code",
   "execution_count": null,
   "metadata": {},
   "outputs": [],
   "source": [
    "data=pd.read_csv(\"MiddleEastFreelancers_cleaning.csv\")\n",
    "data.head(5)"
   ]
  },
  {
   "cell_type": "code",
   "execution_count": null,
   "metadata": {},
   "outputs": [],
   "source": [
    "data[\"price_per_hour\"] = data[\"price_per_hour\"].str.replace(\"$\", '')\n",
    "data[\"price_per_hour\"] = pd.to_numeric(data[\"price_per_hour\"])"
   ]
  },
  {
   "cell_type": "code",
   "execution_count": null,
   "metadata": {},
   "outputs": [],
   "source": [
    "df2=data.groupby(\"location\").agg({\"price_per_hour\":\"sum\"})\n",
    "df2=df2.sort_values(\"price_per_hour\",ascending=False)"
   ]
  },
  {
   "cell_type": "code",
   "execution_count": null,
   "metadata": {},
   "outputs": [],
   "source": [
    "fig1=px.bar(df2 ,  y=\"price_per_hour\" )\n",
    "fig1"
   ]
  },
  {
   "cell_type": "code",
   "execution_count": null,
   "metadata": {},
   "outputs": [],
   "source": [
    "df=pd.read_csv(\"MiddleEastFreelancers_cleaning.csv\")\n",
    "geojson = px.data.election_geojson()\n",
    "candidates = df.location.unique()"
   ]
  },
  {
   "cell_type": "code",
   "execution_count": null,
   "metadata": {},
   "outputs": [],
   "source": [
    "APP.layout=html.Div([\n",
    "                       html.H1(\"freelancers in the middle east\"),\n",
    "                       html.Div([ \n",
    "                                 html.Div([dcc.Graph(figure=fig1)]),\n",
    "                                 \n",
    "                                          \n",
    "                              ]),\n",
    "                           \n",
    "                       html.Div([ \n",
    "                                 html.Div([ html.P(\"Candidate:\"),dcc.RadioItems(id='candidate', options=[{'value': x, 'label': x} for x in candidates],\n",
    "                                            value=candidates[0],labelStyle={'display': 'inline-block'}),dcc.Graph(id=\"choropleth\")\n",
    "                                          ])\n",
    "                                ])                        \n",
    "                  ])                "
   ]
  },
  {
   "cell_type": "code",
   "execution_count": null,
   "metadata": {},
   "outputs": [],
   "source": [
    "@APP.callback(\n",
    "    Output(\"choropleth\", \"figure\"), \n",
    "    [Input(\"country\", \"value\")])\n",
    "def display_choropleth(country):\n",
    "    fig = px.choropleth(\n",
    "        df, geojson=geojson, color=\"user_score\",\n",
    "        locations=\"location\", featureidkey=\"properties.location\",\n",
    "        projection=\"mercator\", range_color=[0, 6500])\n",
    "    fig.update_geos(fitbounds=\"locations\", visible=False)\n",
    "    fig.update_layout(margin={\"r\":0,\"t\":0,\"l\":0,\"b\":0})\n",
    "\n",
    "    return fig"
   ]
  },
  {
   "cell_type": "code",
   "execution_count": null,
   "metadata": {},
   "outputs": [],
   "source": [
    "APP.run_server()"
   ]
  },
  {
   "cell_type": "code",
   "execution_count": null,
   "metadata": {},
   "outputs": [],
   "source": []
  }
 ],
 "metadata": {
  "kernelspec": {
   "display_name": "Python 3",
   "language": "python",
   "name": "python3"
  },
  "language_info": {
   "codemirror_mode": {
    "name": "ipython",
    "version": 3
   },
   "file_extension": ".py",
   "mimetype": "text/x-python",
   "name": "python",
   "nbconvert_exporter": "python",
   "pygments_lexer": "ipython3",
   "version": "3.7.0"
  }
 },
 "nbformat": 4,
 "nbformat_minor": 2
}
